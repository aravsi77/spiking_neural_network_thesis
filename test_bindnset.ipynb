{
 "metadata": {
  "language_info": {
   "codemirror_mode": {
    "name": "ipython",
    "version": 3
   },
   "file_extension": ".py",
   "mimetype": "text/x-python",
   "name": "python",
   "nbconvert_exporter": "python",
   "pygments_lexer": "ipython3",
   "version": "3.8.5-final"
  },
  "orig_nbformat": 2,
  "kernelspec": {
   "name": "python38564bit4faf8abf0a5b4f66a6c0e3d65d21875f",
   "display_name": "Python 3.8.5 64-bit"
  }
 },
 "nbformat": 4,
 "nbformat_minor": 2,
 "cells": [
  {
   "source": [
    "# Creating and Adding Network Components\n",
    "## Creating a Network"
   ],
   "cell_type": "markdown",
   "metadata": {}
  },
  {
   "cell_type": "code",
   "execution_count": 2,
   "metadata": {},
   "outputs": [],
   "source": [
    "from bindsnet.network import Network\n",
    "network = Network()"
   ]
  },
  {
   "source": [
    "## Creating and adding layer\n"
   ],
   "cell_type": "markdown",
   "metadata": {}
  },
  {
   "cell_type": "code",
   "execution_count": 4,
   "metadata": {},
   "outputs": [],
   "source": [
    "from bindsnet.network.nodes import LIFNodes\n",
    "\n",
    "#create a layer with 100 nuerons\n",
    "layer = LIFNodes(n=100, shape=(10,10))"
   ]
  },
  {
   "cell_type": "code",
   "execution_count": 5,
   "metadata": {},
   "outputs": [],
   "source": [
    "#add layer to the network\n",
    "network.add_layer(\n",
    "    layer = layer, name=\"LIF population\"\n",
    ")"
   ]
  },
  {
   "source": [
    "## Creating and adding connection\n"
   ],
   "cell_type": "markdown",
   "metadata": {}
  },
  {
   "cell_type": "code",
   "execution_count": 6,
   "metadata": {},
   "outputs": [],
   "source": [
    "from bindsnet.network.nodes import Input, LIFNodes\n",
    "from bindsnet.network.topology import Connection\n",
    "\n",
    "#create two populations of neurons one to act as the source\n",
    "#population, and the the other target population\n",
    "\n",
    "source_layer = Input(n=100)\n",
    "target_layer = LIFNodes(n=1000)\n",
    "\n",
    "#connect the two layers\n",
    "connection = Connection(\n",
    "    source=source_layer, target=target_layer\n",
    ")"
   ]
  },
  {
   "cell_type": "code",
   "execution_count": null,
   "metadata": {},
   "outputs": [],
   "source": []
  }
 ]
}